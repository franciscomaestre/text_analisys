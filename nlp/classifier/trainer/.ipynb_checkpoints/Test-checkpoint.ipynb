{
 "cells": [
  {
   "cell_type": "code",
   "execution_count": 22,
   "metadata": {
    "collapsed": false
   },
   "outputs": [
    {
     "data": {
      "text/plain": [
       "'D:\\\\VIRTUALBOX\\\\ubuntu1404-desktop\\\\src\\\\IPythonNotebook'"
      ]
     },
     "execution_count": 22,
     "metadata": {},
     "output_type": "execute_result"
    }
   ],
   "source": [
    "%matplotlib inline\n",
    "import os\n",
    "os.getcwd()"
   ]
  },
  {
   "cell_type": "markdown",
   "metadata": {},
   "source": [
    "### Set initial path"
   ]
  },
  {
   "cell_type": "code",
   "execution_count": 24,
   "metadata": {
    "collapsed": false
   },
   "outputs": [
    {
     "data": {
      "text/plain": [
       "'D:\\\\VIRTUALBOX\\\\ubuntu1404-desktop\\\\src\\\\seologies-python'"
      ]
     },
     "execution_count": 24,
     "metadata": {},
     "output_type": "execute_result"
    }
   ],
   "source": [
    "import os, sys\n",
    "os.chdir('../seologies-python')\n",
    "os.getcwd()"
   ]
  },
  {
   "cell_type": "code",
   "execution_count": 26,
   "metadata": {
    "collapsed": false
   },
   "outputs": [],
   "source": [
    "from core.seo.data.seo_document_downloader import SeoDocumentDownloader\n",
    "from core.utils.translator import TranslatorFactory\n",
    "DOWNLOADER_SEARCH_ENGINE = 'google'\n",
    "query, language, country = u'adelgazando', u'es', u'ES'\n",
    "downloadLimit = SEO_TERMS_DOWNLOAD_LIMIT = 30\n",
    "\n",
    "translator = TranslatorFactory.getTranslator()\n",
    "query = translator.trans(query.lower())\n",
    "\n",
    "seoLibrary = SeoDocumentDownloader(\n",
    "                                   query=query,\n",
    "                                   language=language,\n",
    "                                   country=country,\n",
    "                                   searchEngine=DOWNLOADER_SEARCH_ENGINE,\n",
    "                                   downloadLimit=downloadLimit,\n",
    "                                   sameOrigin=False\n",
    "                                   ).getSeoLibrary()"
   ]
  },
  {
   "cell_type": "code",
   "execution_count": 27,
   "metadata": {
    "collapsed": false
   },
   "outputs": [
    {
     "name": "stderr",
     "output_type": "stream",
     "text": [
      "WARNING:gensim.models.word2vec:consider setting layer size to a multiple of 4 for greater performance\n",
      "WARNING:gensim.models.word2vec:under 10 jobs per worker: consider setting a smaller `batch_words' for smoother alpha decay\n"
     ]
    }
   ],
   "source": [
    "import gensim\n",
    "import operator\n",
    "window=2\n",
    "minCount=8\n",
    "ntotal=30\n",
    "model = gensim.models.Word2Vec(seoLibrary.getTextTokens(), size=10, window=window, min_count=minCount, workers=4)    "
   ]
  },
  {
   "cell_type": "code",
   "execution_count": 29,
   "metadata": {
    "collapsed": false
   },
   "outputs": [
    {
     "name": "stdout",
     "output_type": "stream",
     "text": [
      "mariagarcia2404\n"
     ]
    }
   ],
   "source": [
    "'''\n",
    "Creación de los seoWord\n",
    "'''\n",
    "from core.seo.data.seo_word import SeoWord\n",
    "from core.nlp import wordListLemmatizer\n",
    "\n",
    "querySplit = wordListLemmatizer(seoLibrary.query.split(), seoLibrary.language).keys()\n",
    "\n",
    "seoWordsList = {}\n",
    "\n",
    "for seoDocument in seoLibrary.seoDocuments:\n",
    "\n",
    "    for token in seoDocument.getTextTokens():\n",
    "        if token not in seoWordsList:\n",
    "            seoWord = SeoWord(token)\n",
    "            seoWord.scoreRelatedModel = model\n",
    "            seoWord.scoreRelatedQuery = querySplit\n",
    "            seoWordsList[token] = seoWord\n",
    "        seoWordsList[token].addSeoDocument(seoDocument)\n",
    "\n",
    "tokenResult = {}\n",
    "for seoWord in sorted(seoWordsList.values(), key=operator.attrgetter('score'), reverse=True)[0:ntotal]:\n",
    "    tokenResult[seoWord.word] = seoWord.score        \n",
    "        "
   ]
  },
  {
   "cell_type": "code",
   "execution_count": 18,
   "metadata": {
    "collapsed": false
   },
   "outputs": [
    {
     "name": "stdout",
     "output_type": "stream",
     "text": [
      "True\n",
      "1\n"
     ]
    }
   ],
   "source": [
    "words = {u'four': 1, u'ayud': 10, u'papis': 1, u'ratific': 1, u'andro': 1, u'analiz': 2, u'cambi': 7, u'sentimient': 1, u'igual': 1, u'regulacion': 1, u'aut': 1, u'adelgazas': 1, u'canel': 1, u'demasi': 3, u'fuent': 1, u'inapropi': 1, u'every': 1, u'cintur': 1, u'probabil': 1, u'apertur': 1, u'codif': 1, u'direct': 3, u'docent': 1, u'fuert': 1, u'pubis': 1, u'hazt': 1, u'conduct': 1, u'techniqu': 1, u'tips': 1, u'med': 5, u'elimin': 4, u'colofon': 1, u'men': 6, u'met': 5, u'yobienbi': 1, u'mes': 3, u'mer': 1, u'dorm': 1, u'cambial': 1, u'interpret': 1, u'juanm': 1, u'tant': 2, u'forum': 2, u'items': 1, u'study': 1, u'permit': 4, u'adolescents': 1, u'esfuerz': 3, u'hablab': 1, u'unic': 2, u'bri': 1, u'total': 3, u'bra': 1, u'would': 1, u'enflaquec': 1, u'calp': 1, u'rebot': 1, u'concret': 1, u'music': 1, u'calm': 2, u'puest': 1, u'relat': 2, u'excedi': 1, u'infusion': 1, u'estabiliz': 2, u'recet': 2, u'nutri': 1, u'palpit': 1, u'vegetal': 2, u'piern': 1, u'rights': 1, u'pierd': 3, u'vajill': 1, u'norm': 1, u'orignal': 1, u'gmt1': 1, u'manteng': 2, u'indic': 4, u'foods': 1, u'ambos': 1, u'edicion': 1, u'gigant': 1, u'polic': 1, u'hol': 1, u'hom': 1, u'hoj': 1, u'intestin': 1, u'ejempl': 2, u'hor': 5, u'polit': 1, u'adip': 1, u'autent': 1, u'lad': 1, u'after': 1, u'mezcl': 2, u'terraz': 1, u'apetent': 1, u'befor': 1, u'fracas': 5, u'reban': 1, u'rebaj': 1, u'sentir': 1, u'domin': 1, u'amig': 1, u'australi': 1, u'dispar': 1, u'plieg': 1, u'incorpor': 1, u'hidrat': 2, u'deci': 1, u'incit': 1, u'estadist': 2, u'using': 1, u'fall': 2, u'quiebr': 1, u'ovej': 1, u'espa\\xf1': 2, u'london': 1, u'medicament': 1, u'afin': 1, u'vari': 4, u'mayor': 2, u'digest': 1, u'personal': 2, u'multidisciplinary': 1, u'destru': 1, u'crec': 1, u'fin': 1, u'enemig': 1, u'proporcion': 1, u'triglicer': 1, u'anim': 2, u'twite': 1, u'obsesionart': 1, u'consecuent': 1, u'thes': 1, u'ther': 1, u'aport': 3, u'persever': 1, u'fitness': 1, u'arroz': 2, u'guarnicion': 1, u'whil': 1, u'logr': 5, u'laboratori': 1, u'espas': 1, u'practising': 1, u'sastr': 1, u'proteg': 1, u'reafirm': 1, u'negativ': 1, u'nnutricion': 1, u'debil': 1, u'muert': 1, u'daniel': 1, u'adapt': 2, u'got': 1, u'entran': 1, u'rendimient': 1, u'ramon': 1, u'ma\\xf1an': 1, u'entrar': 1, u'entras': 1, u'hister': 1, u'sobrepes': 4, u'afect': 1, u'probar': 1, u'muuuuch': 1, u'aceler': 3, u'pagin': 1, u'iphon': 1, u'confus': 1, u'enjoy': 1, u'nouns': 1, u'toqu': 1, u'agradec': 1, u'correspondient': 1, u'irregul': 1, u'restrict': 1, u'servici': 2, u'sometim': 1, u'calori': 6, u'inger': 1, u'tom': 6, u'toc': 1, u'pluscuamperf': 1, u'vigesimotercer': 1, u'tod': 4, u'sbelt': 1, u'murder': 1, u'emple': 1, u'albert': 1, u'abrir': 1, u'celulitis': 1, u'desmejor': 1, u'conmemor': 1, u'tres': 2, u'este': 1, u'meriend': 1, u'esta': 1, u'rat': 1, u'rar': 1, u'increment': 3, u'autoestim': 1, u'escrib': 2, u'that': 1, u'impotent': 1, u'transmit': 1, u'nuev': 7, u'anatomi': 1, u'robustec': 1, u'marin': 1, u'espin': 1, u'alarg': 1, u'hispan': 1, u'don': 1, u'psicologi': 1, u'medical': 1, u'camp': 1, u'constanci': 1, u'tech': 1, u'duerm': 1, u'prim': 1, u'inaugur': 1, u'comprob': 1, u'academi': 1, u'radic': 1, u'earth': 1, u'pris': 1, u'bricol': 1, u'cabez': 1, u'priv': 2, u'lessons': 1, u'absolut': 1, u'carib': 1, u'claudi': 1, u'menu': 2, u'sensacion': 3, u'explic': 1, u'busc': 4, u'sustanci': 1, u'profundiz': 1, u'semol': 1, u'gerenci': 1, u'posibil': 1, u'joven': 1, u'leers': 1, u'impid': 1, u'bas': 1, u'ofert': 1, u'dias': 2, u'20kg': 1, u'baj': 10, u'respond': 2, u'habit': 6, u'pizz': 1, u'padr': 1, u'result': 4, u'respons': 1, u'fail': 1, u'habil': 1, u'nutriolog': 2, u'pastel': 1, u'lots': 1, u'propi': 2, u'bien': 7, u'atun': 1, u'quitart': 1, u'reemplazal': 1, u'cogoll': 1, u'cop': 1, u'cos': 7, u'triggers': 1, u'braz': 1, u'mariagarcia2404': 1, u'coc': 2, u'concentrat': 1, u'dentr': 2, u'cumpl': 3, u'countri': 1, u'seri': 3, u'com': 10, u'col': 2, u'compromis': 1, u'hac': 14, u'impercept': 1, u'liadill': 1, u'soport': 1, u'quinc': 1, u'abdominal': 1, u'a\\xf1ad': 2, u'fre': 1, u'been': 1, u'much': 5, u'analisis': 3, u'interest': 1, u'subscrib': 1, u'amiguet': 1, u'intervencion': 1, u'regul': 1, u'recomend': 3, u'alegr': 1, u'search': 1, u'adelgazab': 1, u'gasoliner': 1, u'ni\\xf1': 2, u'adelgazar': 1, u'empap': 1, u'tann': 1, u'maner': 7, u'aix': 1, u'properti': 1, u'air': 1, u'consolidat': 1, u'calcul': 1, u'mentir': 1, u'servir': 1, u'colesterol': 2, u'cons': 1, u'cont': 4, u'descans': 1, u'cant': 1, u'exterior': 1, u'mujer': 3, u'informacion': 5, u'simil': 1, u'descend': 1, u'antigu': 1, u'afric': 1, u'relacion': 4, u'meets': 1, u'ello': 4, u'hann': 1, u'overh': 1, u'desment': 1, u'evit': 4, u'kil': 7, u'adelgazareis': 1, u'raiz': 1, u'avisart': 1, u'romp': 1, u'algun': 4, u'algui': 3, u'contact': 1, u'ceton': 1, u'just': 2, u'distint': 3, u'languag': 1, u'amarg': 1, u'family': 1, u'desterr': 1, u'apetit': 4, u'hab': 1, u'addinm': 1, u'hag': 4, u'ayun': 1, u'prueb': 4, u'har': 3, u'expon': 1, u'hav': 1, u'sanitari': 1, u'cultural': 1, u'preterit': 1, u'admetll': 1, u'elabor': 1, u'mios': 1, u'telor': 1, u'apart': 3, u'sinonim': 1, u'afirm': 2, u'operart': 1, u'divers': 1, u'agrad': 1, u'suscrit': 1, u'barrig': 2, u'satisfech': 2, u'mexic': 1, u'acab': 2, u'deal': 1, u'negat': 3, u'despiert': 1, u'pseud': 1, u'sospech': 1, u'abiert': 1, u'vist': 1, u'for': 2, u'megustaestarbi': 1, u'comments': 1, u'frut': 2, u'unit': 1, u'conquering': 1, u'poblacion': 1, u'muuuuuch': 1, u'descarg': 2, u'boll': 1, u'cort': 4, u'bols': 1, u'corr': 2, u'promov': 1, u'contraproducent': 2, u'post': 3, u'suelt': 1, u'diner': 3, u'acog': 1, u'produj': 1, u'adel': 1, u'adem': 7, u'leptin': 1, u'digestion': 1, u'almacen': 1, u'presenci': 1, u'som': 1, u'sol': 9, u'son': 1, u'down': 1, u'vuelt': 1, u'vuelv': 3, u'reducing': 1, u'subj': 1, u'methods': 1, u'giv': 1, u'cantid': 3, u'gir': 1, u'novi': 1, u'polifacet': 1, u'aliment': 8, u'transform': 1, u'diciembr': 1, u'cualqui': 3, u'metabolism': 1, u'form': 7, u'back': 1, u'forz': 1, u'jejej': 1, u'salud': 8, u'truc': 4, u'estabri': 1, u'pesc': 2, u'intern': 2, u'fundament': 1, u'phras': 1, u'imperativ': 1, u'featur': 1, u'tensium': 1, u'tost': 1, u'diagnost': 2, u'exist': 3, u'mold': 1, u'puas': 1, u'pensamient': 2, u'bord': 1, u'leer': 4, u'disminu': 1, u'tip': 1, u'tim': 3, u'tin': 1, u'exces': 4, u'recopil': 2, u'movnat': 1, u'diez': 3, u'acumul': 2, u'benefici': 6, u'fels': 1, u'hormon': 2, u'diet': 13, u'siguient': 4, u'grabacion': 1, u'intens': 1, u'intent': 1, u'consig': 2, u'detox': 1, u'slend': 1, u'naveg': 3, u'adelgazariais': 1, u'daily': 1, u'roj': 1, u'concept': 2, u'segu': 5, u'sandin': 1, u'consum': 2, u'signific': 3, u'transversum': 1, u'rop': 2, u'cancion': 1, u'primer': 3, u'adiccion': 1, u'ver': 2, u'comun': 3, u'decir': 1, u'vec': 6, u'ven': 1, u'vem': 1, u'division': 1, u'geopolit': 1, u'prog': 1, u'triptofan': 1, u'timot': 1, u'exact': 1, u'embarg': 3, u'edad': 2, u'dij': 2, u'consegui': 1, u'gui': 3, u'brevement': 1, u'posts': 1, u'dic': 3, u'soberbi': 1, u'recomiend': 1, u'signif': 1, u'haci': 1, u'regres': 1, u'transcity': 1, u'compens': 1, u'sign': 1, u'comienz': 3, u'riesg': 2, u'sigu': 1, u'prefrontal': 1, u'enfrent': 1, u'corazon': 1, u'coloracion': 1, u'dej': 5, u'seguimient': 1, u'disoci': 1, u'arco': 1, u'enfermedad': 1, u'operacion': 2, u'gener': 2, u'genet': 1, u'phen': 1, u'pregunts': 1, u'alimentacion': 4, u'benson': 1, u'jorg': 1, u'invit': 1, u'alta': 1, u'dich': 1, u'pesandot': 1, u'extrem': 2, u'tempran': 1, u'cien': 1, u'espa\\xf1ol': 2, u'lizzi': 1, u'cabell': 2, u'requier': 3, u'parraf': 1, u'visibl': 1, u'pertenecient': 1, u'newslett': 1, u'perf': 1, u'perd': 9, u'univers': 2, u'visit': 1, u'perr': 1, u'memory': 1, u'estilist': 1, u'pasari': 1, u'evolucion': 2, u'visual': 1, u'easiest': 1, u'pluscuamperfect': 1, u'caz': 1, u'cas': 5, u'car': 2, u'prepar': 2, u'pretend': 2, u'imper': 1, u'estrategi': 1, u'detien': 1, u'can': 1, u'cam': 1, u'dasornis': 1, u'following': 1, u'cab': 4, u'trans': 1, u'septum': 1, u'caf': 1, u'enrojec': 1, u'cad': 5, u'crazy': 1, u'abord': 1, u'cantidad': 1, u'uruguay': 1, u'noch': 1, u'vocer': 1, u'razetti': 1, u'perder': 1, u'critic': 1, u'chin': 1, u'preguntit': 1, u'disfrut': 2, u'chic': 3, u'presentacion': 1, u'dosis': 1, u'aquel': 1, u'mund': 3, u'a\\xf1os': 6, u'product': 1, u'renunci': 2, u'sacrifici': 1, u'may': 1, u'psicolog': 2, u'pasting': 1, u'sinon': 1, u'mad': 1, u'situacion': 1, u'such': 1, u'mak': 1, u'mal': 2, u'natural': 2, u'practic': 4, u'obsesion': 1, u'favorit': 1, u'predic': 1, u'fluent': 1, u'ghe': 1, u'combin': 2, u'practis': 1, u'definitions': 1, u'conllev': 1, u'estudi': 6, u'serving': 1, u'words': 1, u'gradual': 1, u'estomag': 1, u'nombr': 1, u'piedr': 1, u'torn': 1, u'maiz': 1, u'felicit': 1, u'establec': 2, u'aparent': 1, u'scardal': 1, u'millon': 2, u'mail': 1, u'desencaden': 1, u'obstacul': 1, u'apen': 1, u'views': 1, u'comprend': 1, u'movimient': 1, u'adquir': 1, u'not': 2, u'viton': 1, u'hall': 1, u'term': 1, u'motivacion': 1, u'vien': 1, u'refuerc': 1, u'revert': 1, u'anunci': 3, u'cerebr': 4, u'refuerz': 1, u'buckinghamshir': 1, u'castigat': 1, u'rock': 1, u'estorb': 1, u'inacab': 1, u'veint': 2, u'dispon': 2, u'replac': 1, u'continu': 5, u'year': 1, u'subjunctiv': 1, u'blu': 1, u'condicion': 1, u'internet': 1, u'correct': 1, u'insegur': 1, u'integr': 1, u'verrug': 1, u'limpi': 1, u'gallagh': 1, u'cart': 2, u'diagnostic': 1, u'grasos': 1, u'carn': 4, u'recog': 1, u'autofagi': 1, u'sabor': 2, u'recom': 1, u'punt': 1, u'principi': 4, u'almac': 1, u'acce': 1, u'fast': 1, u'spanish': 1, u'city': 1, u'ctualic': 1, u'morfolog': 1, u'estand': 1, u'caught': 1, u'desaprovech': 1, u'demostr': 3, u'milagr': 2, u'terapeut': 2, u'speaking': 1, u'leist': 1, u'orden': 1, u'copi': 1, u'quirofan': 1, u'ingres': 1, u'than': 1, u'milton': 1, u'balanz': 1, u'parej': 1, u'balanc': 1, u'posit': 1, u'peque\\xf1': 3, u'san': 4, u'sam': 1, u'sal': 3, u'sac': 1, u'sab': 6, u'topics': 1, u'ayudart': 1, u'cuic': 1, u'nazc': 1, u'cuid': 6, u'alverton': 1, u'sigais': 1, u'mostrart': 1, u'facult': 1, u'zon': 2, u'ideal': 1, u'denomin': 1, u'interior': 1, u'funcion': 5, u'surf': 1, u'bienest': 2, u'betw': 1, u'normal': 4, u'urgi': 1, u'sucumb': 1, u'exceltr': 1, u'pais': 2, u'herrer': 1, u'alicient': 1, u'britan': 1, u'adopt': 3, u'hitsvill': 1, u'perfeccion': 1, u'seguir': 1, u'alguns': 1, u'salt': 2, u'premi': 2, u'salvabl': 1, u'troz': 1, u'recombin': 1, u'colaps': 1, u'estos': 1, u'deform': 1, u'comentari': 1, u'apuest': 1, u'visualizacion': 1, u'enfocat': 1, u'activ': 6, u'encierr': 1, u'coment': 3, u'chantaj': 1, u'desaparec': 1, u'seguidor': 1, u'comenz': 2, u'gen': 1, u'artist': 1, u'median': 1, u'mentaliz': 1, u'desciend': 1, u'decolor': 1, u'vision': 1, u'hepat': 1, u'isabel': 1, u'corre': 1, u'surgery': 1, u'conscient': 1, u'correlacion': 1, u'piam': 1, u'ways': 1, u'marcador': 1, u'resistent': 1, u'estas': 1, u'import': 6, u'ningun': 3, u'amplif': 1, u'notici': 2, u'comi': 1, u'rutin': 1, u'quirurg': 1, u'percepcion': 1, u'many': 1, u'quier': 4, u'comet': 3, u'consej': 4, u'sentirt': 2, u'color': 2, u'period': 2, u'rescat': 1, u'learning': 1, u'pod': 5, u'twic': 1, u'mare': 1, u'ultim': 6, u'tercer': 2, u'marc': 1, u'invers': 1, u'marisc': 1, u'flavonoid': 1, u'andres': 2, u'contertuli': 1, u'identific': 2, u'tierr': 1, u'tijer': 1, u'pluperfect': 1, u'casi': 3, u'trujillan': 1, u'activat': 1, u'buen': 8, u'coch': 1, u'desayun': 4, u'sobrari': 1, u'influ': 1, u'brot': 1, u'twists': 1, u'them': 1, u'ofrec': 4, u'veran': 2, u'amenaz': 1, u'protein': 3, u'diverticul': 1, u'par': 2, u'pas': 7, u'pav': 1, u'medic': 3, u'mk14': 1, u'inscrib': 1, u'thinning': 1, u'acuerd': 1, u'pag': 1, u'usarl': 1, u'supong': 1, u'oid': 1, u'mani': 1, u'cartoon': 1, u'escase': 1, u'didact': 1, u'remain': 1, u'equilibr': 1, u'conoc': 5, u'bariatric': 1, u'fiest': 1, u'pacient': 3, u'slimm': 1, u'being': 1, u'compound': 1, u'oscur': 1, u'rest': 1, u'michig': 1, u'incre': 1, u'aspect': 1, u'octubr': 1, u'superacion': 1, u'ocasion': 3, u'concentr': 1, u'europ': 1, u'catol': 1, u'except': 1, u'littl': 1, u'blog': 2, u'esforz': 1, u'placenter': 1, u'real': 1, u'around': 1, u'caract': 1, u'mor': 2, u'suplement': 2, u'dart': 2, u'regim': 1, u'pastill': 3, u'mon': 1, u'darl': 1, u'libr': 1, u'porcion': 1, u'pon': 3, u'patrici': 1, u'leyend': 2, u'ser0t0nin': 1, u'clav': 3, u'detr': 1, u'clar': 2, u'clas': 1, u'participl': 1, u'conditional': 1, u'conozcais': 1, u'grup': 3, u'consultal': 1, u'intact': 1, u'excelent': 1, u'confirm': 1, u'aminoac': 1, u'kanobosur': 1, u'definit': 1, u'timoti': 1, u'exit': 1, u'complic': 1, u'premonitori': 1, u'habituacion': 1, u'power': 1, u'each': 1, u'habl': 4, u'descontrol': 1, u'asal': 1, u'asimil': 1, u'central': 2, u'testimoni': 1, u'lector': 1, u'addition': 1, u'racion': 1, u'mean': 1, u'ampul': 1, u'guapeton': 1, u'strik': 1, u'nacient': 1, u'inbox': 1, u'cervez': 3, u'your': 2, u'charli': 1, u'weight': 1, u'log': 1, u'her': 3, u'palabr': 1, u'percib': 2, u'intikell': 1, u'erradic': 1, u'celul': 2, u'dietist': 2, u'atract': 2, u'jug': 1, u'conjugat': 1, u'progressiv': 1, u'gord': 2, u'trying': 1, u'with': 1, u'grasit': 1, u'tripl': 1, u'manten': 3, u'miguel': 2, u'bisagr': 1, u'manuel': 1, u'trading': 1, u'usted': 1, u'agreg': 1, u'feliz': 2, u'accents': 1, u'general': 5, u'felic': 1, u'generat': 1, u'ocurr': 1, u'madurez': 1, u'novedad': 1, u'portug': 1, u'sanguine': 1, u'besot': 1, u'amplific': 1, u'requeson': 1, u'juic': 1, u'lueg': 1, u'busqued': 1, u'retrat': 1, u'swap69': 1, u'important': 1, u'bullets': 1, u'reduc': 6, u'vincul': 1, u'directori': 1, u'mast': 2, u'nutrient': 4, u'original': 1, u'consider': 5, u'acost': 1, u'month': 1, u'slimming': 1, u'liad': 1, u'disc': 1, u'paleolit': 1, u'escaque': 1, u'sedentar': 1, u'pelicul': 1, u'program': 4, u'spain': 1, u'solicit': 1, u'introduc': 2, u'vers': 1, u'diari': 2, u'vert': 1, u'podri': 2, u'apoptosis': 1, u'falt': 2, u'util': 2, u'verb': 1, u'verd': 3, u'fam': 2, u'paol': 1, u'verl': 1, u'entiend': 1, u'alma': 1, u'peor': 2, u'budist': 1, u'list': 1, u'menor': 1, u'laud': 1, u'hipotiroid': 1, u'pase': 2, u'tej': 1, u'tel': 3, u'tem': 5, u'ten': 5, u'anonim': 1, u'past': 4, u'reci': 1, u'prospectiv': 1, u'will': 1, u'what': 1, u'sud': 1, u'hormonal': 1, u'sub': 2, u'stevi': 1, u'traduc': 1, u'telomer': 1, u'version': 3, u'sur': 1, u'public': 6, u'leid': 1, u'leicyg': 1, u'component': 2, u'threads': 1, u'entrad': 2, u'depend': 1, u'llam': 3, u'espaci': 1, u'yugal': 1, u'enferm': 1, u'linaz': 1, u'medicin': 1, u'vid': 9, u'vin': 1, u'suced': 2, u'viv': 2, u'famili': 1, u'cabecer': 1, u'teach': 1, u'preven': 1, u'inmediat': 2, u'formul': 1, u'bariatr': 1, u'trist': 1, u'produzc': 1, u'gimnasi': 4, u'atencion': 3, u'particular': 1, u'agrand': 1, u'eficaci': 1, u'abraz': 1, u'des': 3, u'histori': 1, u'desaparicion': 1, u'requer': 1, u'dem': 1, u'learn': 1, u'abandon': 1, u'deb': 6, u'dec': 3, u'ded': 1, u'rejuvenec': 1, u'abram': 1, u'hayflick': 1, u'almacenaj': 1, u'necesari': 5, u'proteic': 1, u'ponl': 1, u'compart': 5, u'muscul': 3, u'pong': 2, u'azuc': 1, u'hech': 2, u'menud': 1, u'divid': 1, u'menus': 1, u'simpl': 2, u'plant': 2, u'viend': 1, u'different': 1, u'referent': 2, u'seman': 4, u'ummmmmmm': 1, u'desmotivacion': 1, u'gast': 4, u'incapac': 1, u'patit': 1, u'weihgt': 1, u'etiquet': 1, u'caus': 2, u'fundamental': 1, u'concentracion': 1, u'alcalin': 1, u'help': 1, u'pens': 3, u'coledoc': 1, u'sugerent': 1, u'conjugation': 1, u'epoc': 2, u'liast': 1, u'penc': 1, u'might': 1, u'alter': 1, u'prodigi': 1, u'almendr': 1, u'somebody': 1, u'cuatr': 1, u'cen': 4, u'consumidor': 1, u'cer': 3, u'recompens': 1, u'aclar': 1, u'association': 1, u'easily': 1, u'abdom': 1, u'singul': 1, u'fully': 1, u'cercan': 1, u'habitu': 1, u'difficult': 1, u'metod': 2, u'week': 1, u'dig': 1, u'mental': 2, u'hari': 1, u'tipic': 2, u'hard': 1, u'energi': 2, u'hart': 1, u'orient': 1, u'alcohol': 1, u'publish': 1, u'liger': 3, u'learners': 1, u'bast': 2, u'postgr': 1, u'mantequill': 1, u'pud': 2, u'acort': 1, u'consegu': 4, u'obra': 1, u'asi': 1, u'pur': 1, u'pus': 1, u'ensal': 1, u'mism': 7, u'inutil': 1, u'naci': 1, u'bland': 1, u'blanc': 1, u'corporal': 1, u'verdur': 2, u'empez': 1, u'construct': 1, u'empec': 1, u'razon': 2, u'reduccion': 1, u'ancian': 1, u'imperfect': 1, u'vag': 1, u'segui': 2, u'segun': 2, u'graci': 1, u'part': 4, u'radiofon': 1, u'consult': 2, u'pronunci': 1, u'mencion': 2, u'vocab': 1, u'contrari': 4, u'lament': 1, u'posibl': 6, u'pictur': 1, u'ubic': 1, u'mickey': 1, u'necesit': 4, u'defect': 1, u'asegur': 1, u'dedic': 1, u'juici': 1, u'imagin': 1, u'desarroll': 2, u'analogi': 1, u'vanderwaal': 1, u'lin': 1, u'sindrom': 1, u'also': 1, u'lip': 1, u'piens': 2, u'pareci': 1, u'plaz': 3, u'play': 1, u'pregunt': 7, u'mediant': 1, u'plat': 3, u'most': 1, u'plan': 1, u'diferent': 5, u'watt': 1, u'destruct': 1, u'traditional': 1, u'segur': 5, u'maquin': 1, u'suficient': 2, u'carbohidrat': 1, u'find': 1, u'ambit': 1, u'qued': 4, u'copyright': 1, u'quem': 5, u'respuest': 2, u'prefier': 1, u'ques': 2, u'quer': 2, u'proced': 2, u'gratis': 1, u'hiz': 1, u'acabart': 1, u'nativ': 1, u'silb': 1, u'hic': 2, u'fastest': 1, u'international': 1, u'hij': 3, u'alteracion': 1, u'especif': 1, u'preocup': 2, u'146k': 1, u'pingback': 1, u'acumulacion': 1, u'cre': 5, u'esencial': 1, u'acud': 1, u'sev': 1, u'bienestar180': 1, u'acompa\\xf1': 2, u'potent': 1, u'sec': 1, u'are': 1, u'reserv': 1, u'suaviz': 1, u'expert': 1, u'someti': 1, u'particip': 1, u'evaluacion': 1, u'llevader': 1, u'cromosom': 1, u'altern': 1, u'homeopat': 1, u'numer': 1, u'induc': 1, u'estres': 2, u'wanksink': 1, u'estren': 1, u'liqu': 1, u'understanding': 1, u'minut': 3, u'popul': 3, u'both': 1, u'acept': 4, u'cocnoci': 1, u'buenisim': 1, u'finds': 1, u'bell': 1, u'camin': 3, u'andar': 1, u'sexy': 1, u'nutricion': 3, u'marginali': 1, u'territori': 1, u'dud': 1, u'investigacion': 2, u'aguacat': 1, u'produccion': 1, u'dur': 1, u'filtr': 1, u'gaz': 1, u'infect': 1, u'recibi': 1, u'gan': 2, u'deport': 4, u'educ': 1, u'funk': 1, u'milit': 1, u'look': 1, u'bili': 1, u'bikini': 1, u'sobr': 1, u'error': 3, u'premiat': 1, u'fum': 1, u'leyt': 1, u'kingdom': 1, u'rap': 6, u'conten': 4, u'moth': 1, u'centr': 2, u'comport': 4, u'desmotiv': 1, u'frecuenci': 1, u'limit': 1, u'ric': 2, u'shar': 1, u'revolucion': 1, u'marqu': 1, u'minim': 1, u'read': 1, u'copying': 1, u'alert': 1, u'moment': 2, u'keyn': 1, u'rockabilly': 1, u'metabol': 7, u'entra': 2, u'propon': 1, u'adelgazari': 1, u'somet': 1, u'merec': 1, u'elen': 1, u'person': 9, u'elev': 1, u'academ': 1, u'adquier': 1, u'cajon': 1, u'disminucion': 2, u'1784': 1, u'reemplaz': 1, u'ascensor': 1, u'world': 1, u'lik': 1, u'preferent': 1, u'ingier': 1, u'informal': 1, u'almuerz': 2, u'informan': 1, u'advertisements': 1, u'calor': 2, u'informat': 1, u'hues': 1, u'adiposity': 1, u'treint': 2, u'adelgaceis': 1, u'hombr': 1, u'busqu': 1, u'monta\\xf1': 1, u'cordon': 1, u'mordi': 1, u'apest': 1, u'trigg': 1, u'volver': 1, u'asoci': 3, u'independient': 1, u'descubr': 3, u'previ': 2, u'adaptacion': 1, u'dificil': 1, u'linford': 1, u'ivan': 1, u'descompensacion': 1, u'often': 1, u'nivel': 1, u'magnificent': 1, u'alimentart': 1, u'aquell': 3, u'venezuel': 1, u'especializ': 1, u'palo': 1, u'lightning': 1, u'pale': 1, u'rien': 1, u'eliminal': 1, u'lamin': 1, u'prox': 1, u'decision': 1, u'medi': 4, u'pes': 12, u'pen': 1, u'larg': 5, u'exager': 1, u'ojos': 2, u'prob': 2, u'constru': 1, u'illinoist': 1, u'empres': 1, u'sabiduri': 1, u'vbulletin': 1, u'emocional': 1, u'biomark': 1, u'impos': 1, u'muestr': 3, u'ide': 2, u'anterior': 5, u'aburr': 1, u'anda': 1, u'integral': 4, u'pediatr': 1, u'mitosis': 1, u'lesson': 1, u'fibr': 2, u'alison': 1, u'canal': 1, u'inclus': 2, u'institut': 1, u'spam': 1, u'formacion': 1, u'textual': 1, u'direccion': 1, u'lengu': 1, u'parec': 3, u'reduction': 1, u'pocol': 1, u'atras': 1, u'poder': 1, u'zealand': 1, u'comprart': 1, u'tapon': 1, u'dulc': 4, u'link': 1, u'inclu': 3, u'line': 1, u'lind': 1, u'pellizquit': 1, u'ansied': 4, u'cin': 1, u'planet': 1, u'cit': 1, u'influenci': 1, u'utiliz': 6, u'constant': 2, u'cirugi': 4, u'favorecer': 1, u'curi': 1, u'sintom': 2, u'errone': 1, u'irte': 1, u'tare': 1, u'tard': 4, u'regadi': 1, u'setent': 1, u'perfil': 1, u'biol': 1, u'nat': 1, u'roibo': 1, u'cervecer': 1, u'lptin': 1, u'formal': 1, u'longitud': 1, u'nacimient': 1, u'gramm': 1, u'ejercici': 8, u'monic': 1, u'adecu': 2, u'deberi': 1, u'fresc': 2, u'2005': 1, u'agu': 2, u'lanz': 1, u'once': 1, u'vldl': 1, u'results': 1, u'inquietud': 1, u'cognit': 1, u'nunc': 1, u'compact': 1, u'procur': 1, u'sent': 3, u'ingredient': 1, u'objet': 3, u'aprend': 2, u'agud': 1, u'electron': 2, u'volum': 3, u'sencill': 3, u'envejec': 1, u'magic': 1, u'sedentari': 1, u'this': 2, u'recib': 2, u'descubri': 1, u'subjunt': 1, u'obesity': 1, u'solutions': 1, u'terapi': 1, u'visualiz': 1, u'navegacion': 2, u'encarni': 1, u'acid': 1, u'click': 1, u'siembr': 1, u'compar': 1, u'comunicacion': 1, u'anton': 1, u'maravill': 1, u'experiment': 2, u'ribalt': 1, u'sorprend': 1, u'imped': 1, u'others': 1, u'luis': 2, u'licenci': 1, u'usad': 1, u'great': 1, u'cerc': 1, u'sangr': 1, u'gent': 1, u'repet': 1, u'aromat': 1, u'cerr': 1, u'insulin': 1, u'opinion': 1, u'chang': 1, u'hipoglucemi': 1, u'castig': 1, u'fisic': 9, u'resete': 1, u'retom': 1, u'progres': 2, u'volv': 2, u'sirv': 3, u'olvid': 2, u'from': 1, u'levant': 1, u'apunt': 2, u'websit': 1, u'alrededor': 1, u'slim': 1, u'supuest': 2, u'cirurgi': 1, u'colacion': 1, u'convien': 1, u'confi': 1, u'tuerc': 1, u'sabr': 1, u'supon': 2, u'sabi': 2, u'thin': 1, u'glucogenolisis': 1, u'control': 7, u'links': 1, u'colabor': 1, u'taz': 1, u'cuest': 2, u'chist': 1, u'onlin': 2, u'neogen': 1, u'cientif': 2, u'egres': 1, u'esper': 3, u'andes': 1, u'aument': 6, u'sig': 3, u'lexicograf': 1, u'cual': 2, u'calips': 1, u'testicul': 1, u'sin': 3, u'refier': 1, u'entreg': 1, u'especial': 3, u'colaboracion': 1, u'polimeras': 1, u'fras': 3, u'glucos': 1, u'llev': 5, u'light': 2, u'sit': 1, u'proces': 6, u'cotidian': 1, u'lleg': 3, u'llen': 1, u'elij': 1, u'engord': 5, u'including': 1, u'looks': 1, u'cuestion': 1, u'perfect': 3, u'aprovech': 1, u'longitudinal': 1, u'mediterrane': 1, u'permanent': 1, u'rabi': 1, u'espej': 1, u'2016': 2, u'2011': 1, u'eur': 1, u'nadi': 2, u'enmagrec': 1, u'dab': 1, u'dal': 1, u'mensaj': 2, u'condicional': 1, u'sid': 1, u'dat': 1, u'dav': 1, u'vosotr': 2, u'facilit': 2, u'diabet': 1, u'masters': 1, u'meri': 1, u'edit': 1, u'university': 1, u'trat': 6, u'trav': 3, u'tras': 3, u'sobresal': 1, u'simonon': 1, u'sorprendent': 1, u'corrigem': 1, u'cocin': 3, u'doing': 1, u'mas': 2, u'maguey': 1, u'ebullicion': 1, u'banan': 1, u'sexual': 1, u'adelgazais': 1, u'sient': 3, u'ret': 1, u'siend': 2, u'rel': 1, u'intervention': 1, u'calid': 3, u'franc': 1, u'usuari': 3, u'hambr': 4, u'mostr': 2, u'estrict': 1, u'osteodontornis': 1, u'inici': 2, u'alcanz': 3, u'york': 1, u'romperi': 1, u'conjugations': 1, u'adolescent': 1, u'eteri': 1, u'tiemp': 9, u'could': 1, u'vam': 4, u'segreg': 1, u'aren': 1, u'length': 1, u'caid': 1, u'trabaj': 5, u'sustent': 1, u'saberr': 1, u'echa': 1, u'cuent': 7, u'saci': 1, u'sack': 1, u'jesus': 1, u'floral': 1, u'potencial': 1, u'fenomen': 1, u'cocoter': 1, u'facil': 4, u'gallet': 1, u'cuant': 2, u'legumbr': 1, u'los': 1, u'manzan': 1, u'capac': 1, u'pront': 2, u'contien': 1, u'capaz': 1, u'termin': 4, u'final': 5, u'obtien': 1, u'recient': 2, u'escuch': 4, u'navide\\xf1': 1, u'televison': 1, u'contribu': 1, u'2015': 1, u'beb': 1, u'interes': 2, u'sucederi': 1, u'clic': 2, u'tabl': 1, u'contradictori': 1, u'tranquilit': 1, u'musculacion': 1, u'mil': 1, u'aconsej': 2, u'mig': 1, u'divert': 1, u'mir': 3, u'mit': 1, u'energet': 4, u'aparec': 4, u'combat': 2, u'mantuv': 1, u'tall': 1, u'altos': 1, u'posterior': 1, u'fiel': 1, u'talk': 1, u'determin': 3, u'gest': 1, u'encontr': 4, u'selection': 1, u'brind': 1, u'callejer': 1, u'inductor': 1, u'principal': 2, u'rasg': 2, u'mayori': 2, u'tricentenari': 1, u'figur': 2, u'dispers': 1, u'terminal': 1, u'envi': 1, u'verbs': 1, u'encant': 1, u'dolenci': 1, u'perdon': 1, u'acced': 2, u'means': 1, u'suen': 1, u'suel': 2, u'enlac': 3, u'argentin': 1, u'autor': 2, u'autop': 1, u'cuerp': 10, u'contribui': 1, u'chips': 1, u'indefinid': 1, u'aceit': 1, u'enabl': 1, u'organ': 2, u'gust': 2, u'gras': 7, u'harin': 1, u'grav': 1, u'calling': 1, u'titul': 1, u'gran': 4, u'profesional': 1, u'grab': 1, u'grad': 1, u'view': 1, u'muevet': 1, u'testosteron': 1, u'olvidart': 1, u'charlataneri': 1, u'despu': 4, u'alimentici': 2, u'mied': 1, u'distractor': 1, u'favor': 1, u'luc': 2, u'lug': 2, u'tens': 1, u'progress': 1, u'efect': 4, u'email': 1, u'jov': 1, u'asociacion': 2, u'frecuent': 1, u'sue\\xf1': 1, u'opcion': 1, u'amer': 1, u'cierr': 1, u'bronc': 1, u'aqui': 4, u'ciert': 6, u'dobl': 2, u'desintoxic': 1, u'articul': 5, u'compromet': 1, u'costumbr': 1, u'repit': 1, u'habitual': 2, u'walk': 1, u'vend': 1, u'enga\\xf1': 1, u'venc': 1, u'clash': 1, u'arrib': 1, u'veni': 1, u'quis': 2, u'entend': 1, u'adelgac': 1, u'cent': 1, u'quiz': 2, u'quid': 1, u'respondi': 3, u'adelgaz': 23, u'encuentr': 3, u'paleospain': 1, u'peligr': 2, u'2014': 2, u'present': 4, u'replic': 1, u'se\\xf1al': 4, u'solucion': 1, u'educacion': 1, u'empiec': 1, u'modific': 1, u'aranch': 1, u'empiez': 2, u'defin': 1, u'miembr': 2, u'rochest': 1, u'indiqu': 1, u'observ': 2, u'siti': 3, u'increibl': 1, u'eficaz': 1, u'discografi': 1, u'motiv': 3, u'revis': 1, u'orbital': 1, u'diets': 1, u'juan': 1, u'cinc': 1, u'meyolot': 1, u'flour': 1, u'cint': 1, u'cod': 1, u'material': 1, u'siempr': 6, u'gluconeogenesis': 1, u'student': 1, u'tratamient': 3, u'actualiz': 1, u'ashley': 1, u'english': 1, u'usual': 1, u'mastic': 1, u'fictici': 1, u'sufr': 1, u'producirt': 1, u'laurel': 1, u'paul': 1, u'personaliz': 3, u'vide': 1, u'cultur': 1, u'consumi': 1, u'match': 1, u'salvaj': 1, u'piel': 2, u'ampli': 1, u'realid': 1, u'realiz': 4, u'dese': 2, u'desg': 1, u'recurs': 1, u'recurr': 1, u'loss': 2, u'accion': 1, u'lost': 1, u'corpor': 1, u'accelerat': 1, u'zamor': 1, u'librart': 1, u'habitat': 1, u'saign': 1, u'hair': 1, u'concili': 1, u'comod': 1, u'contig': 3, u'misteri': 1, u'lead': 1, u'pues': 3, u'students': 1, u'estil': 1, u'primaver': 1, u'pued': 11, u'investig': 1, u'desnutr': 1, u'realment': 2, u'journal': 1, u'obes': 2, u'usas': 1, u'usar': 1, u'about': 1, u'actual': 2, u'desnutricion': 1, u'ingest': 1, u'revist': 1, u'espiritual': 1, u'crecimient': 1, u'evasyon': 1, u'teclist': 1, u'autoriz': 1, u'obten': 1, u'washington': 1, u'patat': 1, u'cienci': 1, u'promuev': 1, u'despej': 1, u'forget': 1, u'parezc': 1, u'1980': 1, u'diccionari': 3, u'apps': 1, u'secret': 2, u'vay': 1, u'enfermed': 1, u'jueg': 1, u'entonc': 1, u'simplement': 2, u'basic': 1, u'escrot': 1, u'ereccion': 1, u'nicol': 1, u'seis': 1, u'recort': 1, u'bombon': 1, u'evident': 2, u'record': 1, u'below': 1, u'madr': 3, u'puert': 1, u'problem': 4, u'explicacion': 2, u'tortill': 1, u'evalu': 3, u'pid': 1, u'vesicul': 1, u'cuell': 1, u'mejor': 10, u'paraguay': 1, u'pis': 1, u'probabl': 2, u'mientr': 6, u'contest': 1, u'chocolat': 1, u'ingles': 1, u'other': 1, u'futur': 3, u'rememb': 1, u'tama\\xf1': 3, u'chul': 1, u'conclusion': 1, u'escuel': 1, u'junt': 1, u'podi': 1, u'evaginacion': 1, u'agarr': 1, u'persistent': 1, u'hinch': 1, u'emerg': 1, u'experient': 2, u'decemb': 1, u'invari': 1, u'podr': 1, u'blogg': 1}\n",
    "print('mariagarcia2404' in words)\n",
    "print(words['mariagarcia2404'])"
   ]
  },
  {
   "cell_type": "code",
   "execution_count": 4,
   "metadata": {
    "collapsed": true
   },
   "outputs": [],
   "source": [
    "import pandas as pd"
   ]
  },
  {
   "cell_type": "code",
   "execution_count": 5,
   "metadata": {
    "collapsed": true
   },
   "outputs": [],
   "source": [
    "pdWords = pd.DataFrame(words.items())"
   ]
  },
  {
   "cell_type": "code",
   "execution_count": 6,
   "metadata": {
    "collapsed": false
   },
   "outputs": [
    {
     "data": {
      "text/html": [
       "<div>\n",
       "<table border=\"1\" class=\"dataframe\">\n",
       "  <thead>\n",
       "    <tr style=\"text-align: right;\">\n",
       "      <th></th>\n",
       "      <th>0</th>\n",
       "      <th>1</th>\n",
       "    </tr>\n",
       "  </thead>\n",
       "  <tbody>\n",
       "    <tr>\n",
       "      <th>0</th>\n",
       "      <td>four</td>\n",
       "      <td>1</td>\n",
       "    </tr>\n",
       "    <tr>\n",
       "      <th>1</th>\n",
       "      <td>ayud</td>\n",
       "      <td>10</td>\n",
       "    </tr>\n",
       "    <tr>\n",
       "      <th>2</th>\n",
       "      <td>ratific</td>\n",
       "      <td>1</td>\n",
       "    </tr>\n",
       "    <tr>\n",
       "      <th>3</th>\n",
       "      <td>andro</td>\n",
       "      <td>1</td>\n",
       "    </tr>\n",
       "    <tr>\n",
       "      <th>4</th>\n",
       "      <td>consider</td>\n",
       "      <td>5</td>\n",
       "    </tr>\n",
       "  </tbody>\n",
       "</table>\n",
       "</div>"
      ],
      "text/plain": [
       "          0   1\n",
       "0      four   1\n",
       "1      ayud  10\n",
       "2   ratific   1\n",
       "3     andro   1\n",
       "4  consider   5"
      ]
     },
     "execution_count": 6,
     "metadata": {},
     "output_type": "execute_result"
    }
   ],
   "source": [
    "pdWords.head()"
   ]
  },
  {
   "cell_type": "code",
   "execution_count": 10,
   "metadata": {
    "collapsed": false
   },
   "outputs": [
    {
     "data": {
      "text/plain": [
       "array([[<matplotlib.axes._subplots.AxesSubplot object at 0x000000000B9E2E10>]], dtype=object)"
      ]
     },
     "execution_count": 10,
     "metadata": {},
     "output_type": "execute_result"
    },
    {
     "data": {
      "image/png": "[encoded data removed]",
      "text/plain": [
       "<matplotlib.figure.Figure at 0xbad2438>"
      ]
     },
     "metadata": {},
     "output_type": "display_data"
    }
   ],
   "source": [
    "pdWords.hist(bins=20)"
   ]
  },
  {
   "cell_type": "code",
   "execution_count": 19,
   "metadata": {
    "collapsed": false
   },
   "outputs": [
    {
     "name": "stdout",
     "output_type": "stream",
     "text": [
      "92\n"
     ]
    },
    {
     "data": {
      "text/plain": [
       "array([[<matplotlib.axes._subplots.AxesSubplot object at 0x000000000C6FA240>]], dtype=object)"
      ]
     },
     "execution_count": 19,
     "metadata": {},
     "output_type": "execute_result"
    },
    {
     "data": {
      "image/png": "[encoded data removed]",
      "text/plain": [
       "<matplotlib.figure.Figure at 0xc56b3c8>"
      ]
     },
     "metadata": {},
     "output_type": "display_data"
    }
   ],
   "source": [
    "m4 = pdWords[pdWords[1]>4]\n",
    "print(len(m4))\n",
    "m4.hist(bins=20)"
   ]
  },
  {
   "cell_type": "code",
   "execution_count": null,
   "metadata": {
    "collapsed": true
   },
   "outputs": [],
   "source": []
  }
 ],
 "metadata": {
  "kernelspec": {
   "display_name": "Python 2",
   "language": "python",
   "name": "python2"
  },
  "language_info": {
   "codemirror_mode": {
    "name": "ipython",
    "version": 2
   },
   "file_extension": ".py",
   "mimetype": "text/x-python",
   "name": "python",
   "nbconvert_exporter": "python",
   "pygments_lexer": "ipython2",
   "version": "2.7.11"
  }
 },
 "nbformat": 4,
 "nbformat_minor": 0
}
